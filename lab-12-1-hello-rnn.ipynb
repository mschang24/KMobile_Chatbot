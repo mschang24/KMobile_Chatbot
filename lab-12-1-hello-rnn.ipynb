{
 "cells": [
  {
   "cell_type": "code",
   "execution_count": 1,
   "metadata": {
    "collapsed": true
   },
   "outputs": [],
   "source": [
    "import tensorflow as tf\n",
    "import numpy as np\n",
    "tf.set_random_seed(777)  # reproducibility"
   ]
  },
  {
   "cell_type": "code",
   "execution_count": 2,
   "metadata": {
    "collapsed": true
   },
   "outputs": [],
   "source": [
    "idx2char = ['h', 'i', 'e', 'l', 'o']\n",
    "# Teach hello: hihell -> ihello\n",
    "x_data = [[0, 1, 0, 2, 3, 3]]   # hihell\n",
    "x_one_hot = [[[1, 0, 0, 0, 0],   # h 0\n",
    "              [0, 1, 0, 0, 0],   # i 1\n",
    "              [1, 0, 0, 0, 0],   # h 0\n",
    "              [0, 0, 1, 0, 0],   # e 2\n",
    "              [0, 0, 0, 1, 0],   # l 3\n",
    "              [0, 0, 0, 1, 0]]]  # l 3\n",
    "\n",
    "y_data = [[1, 0, 2, 3, 3, 4]]    # ihello"
   ]
  },
  {
   "cell_type": "code",
   "execution_count": 3,
   "metadata": {
    "collapsed": true
   },
   "outputs": [],
   "source": [
    "num_classes = 5\n",
    "input_dim = 5  # one-hot size\n",
    "hidden_size = 5  # output from the LSTM. 5 to directly predict one-hot\n",
    "batch_size = 1   # one sentence\n",
    "sequence_length = 6  # |ihello| == 6\n",
    "learning_rate = 0.1"
   ]
  },
  {
   "cell_type": "code",
   "execution_count": 4,
   "metadata": {
    "collapsed": false
   },
   "outputs": [],
   "source": [
    "X = tf.placeholder(tf.float32, [None, sequence_length, input_dim])  # X one-hot\n",
    "Y = tf.placeholder(tf.int32, [None, sequence_length])  # Y label\n",
    "\n",
    "cell = tf.contrib.rnn.BasicLSTMCell(num_units=hidden_size, state_is_tuple=True)\n",
    "initial_state = cell.zero_state(batch_size, tf.float32)\n",
    "outputs, _states = tf.nn.dynamic_rnn(cell, X, initial_state=initial_state, dtype=tf.float32)"
   ]
  },
  {
   "cell_type": "code",
   "execution_count": 7,
   "metadata": {
    "collapsed": true
   },
   "outputs": [],
   "source": [
    "# FC layer\n",
    "X_for_fc = tf.reshape(outputs, [-1, hidden_size]) # (1,6,5) -> (6,5)\n",
    "outputs = tf.contrib.layers.fully_connected(\n",
    "    inputs=X_for_fc, num_outputs=num_classes, activation_fn=None)"
   ]
  },
  {
   "cell_type": "code",
   "execution_count": 10,
   "metadata": {
    "collapsed": false
   },
   "outputs": [],
   "source": [
    "# reshape out for sequence_loss\n",
    "outputs = tf.reshape(outputs, [batch_size, sequence_length, num_classes])\n",
    "\n",
    "weights = tf.ones([batch_size, sequence_length])\n",
    "sequence_loss = tf.contrib.seq2seq.sequence_loss(logits=outputs, targets=Y, weights=weights)\n",
    "loss = tf.reduce_mean(sequence_loss)\n",
    "train = tf.train.AdamOptimizer(learning_rate=learning_rate).minimize(loss)\n",
    "\n",
    "prediction = tf.argmax(outputs, axis=2)"
   ]
  },
  {
   "cell_type": "code",
   "execution_count": 11,
   "metadata": {
    "collapsed": false
   },
   "outputs": [
    {
     "name": "stdout",
     "output_type": "stream",
     "text": [
      "(0, 'loss:', 1.6435561, 'prediction: ', array([[3, 3, 3, 3, 3, 3]]), 'true Y: ', [[1, 0, 2, 3, 3, 4]])\n",
      "('\\tPrediction str: ', 'llllll')\n",
      "(1, 'loss:', 1.5243043, 'prediction: ', array([[3, 3, 3, 3, 3, 3]]), 'true Y: ', [[1, 0, 2, 3, 3, 4]])\n",
      "('\\tPrediction str: ', 'llllll')\n",
      "(2, 'loss:', 1.4513379, 'prediction: ', array([[3, 3, 3, 3, 3, 3]]), 'true Y: ', [[1, 0, 2, 3, 3, 4]])\n",
      "('\\tPrediction str: ', 'llllll')\n",
      "(3, 'loss:', 1.3871799, 'prediction: ', array([[3, 3, 3, 3, 3, 3]]), 'true Y: ', [[1, 0, 2, 3, 3, 4]])\n",
      "('\\tPrediction str: ', 'llllll')\n",
      "(4, 'loss:', 1.3142462, 'prediction: ', array([[3, 3, 3, 3, 3, 3]]), 'true Y: ', [[1, 0, 2, 3, 3, 4]])\n",
      "('\\tPrediction str: ', 'llllll')\n",
      "(5, 'loss:', 1.220543, 'prediction: ', array([[3, 3, 3, 3, 3, 3]]), 'true Y: ', [[1, 0, 2, 3, 3, 4]])\n",
      "('\\tPrediction str: ', 'llllll')\n",
      "(6, 'loss:', 1.1109241, 'prediction: ', array([[3, 0, 3, 3, 3, 4]]), 'true Y: ', [[1, 0, 2, 3, 3, 4]])\n",
      "('\\tPrediction str: ', 'lhlllo')\n",
      "(7, 'loss:', 0.99846429, 'prediction: ', array([[2, 0, 3, 3, 3, 4]]), 'true Y: ', [[1, 0, 2, 3, 3, 4]])\n",
      "('\\tPrediction str: ', 'ehlllo')\n",
      "(8, 'loss:', 0.89273137, 'prediction: ', array([[2, 0, 2, 3, 3, 4]]), 'true Y: ', [[1, 0, 2, 3, 3, 4]])\n",
      "('\\tPrediction str: ', 'ehello')\n",
      "(9, 'loss:', 0.78947705, 'prediction: ', array([[2, 0, 2, 3, 3, 4]]), 'true Y: ', [[1, 0, 2, 3, 3, 4]])\n",
      "('\\tPrediction str: ', 'ehello')\n",
      "(10, 'loss:', 0.68906981, 'prediction: ', array([[2, 0, 2, 3, 3, 4]]), 'true Y: ', [[1, 0, 2, 3, 3, 4]])\n",
      "('\\tPrediction str: ', 'ehello')\n",
      "(11, 'loss:', 0.60267526, 'prediction: ', array([[2, 0, 2, 3, 3, 4]]), 'true Y: ', [[1, 0, 2, 3, 3, 4]])\n",
      "('\\tPrediction str: ', 'ehello')\n",
      "(12, 'loss:', 0.52008718, 'prediction: ', array([[2, 0, 2, 3, 3, 4]]), 'true Y: ', [[1, 0, 2, 3, 3, 4]])\n",
      "('\\tPrediction str: ', 'ehello')\n",
      "(13, 'loss:', 0.44472861, 'prediction: ', array([[1, 0, 2, 3, 3, 4]]), 'true Y: ', [[1, 0, 2, 3, 3, 4]])\n",
      "('\\tPrediction str: ', 'ihello')\n",
      "(14, 'loss:', 0.3710748, 'prediction: ', array([[1, 0, 2, 3, 3, 4]]), 'true Y: ', [[1, 0, 2, 3, 3, 4]])\n",
      "('\\tPrediction str: ', 'ihello')\n",
      "(15, 'loss:', 0.3042109, 'prediction: ', array([[1, 0, 2, 3, 3, 4]]), 'true Y: ', [[1, 0, 2, 3, 3, 4]])\n",
      "('\\tPrediction str: ', 'ihello')\n",
      "(16, 'loss:', 0.24846895, 'prediction: ', array([[1, 0, 2, 3, 3, 4]]), 'true Y: ', [[1, 0, 2, 3, 3, 4]])\n",
      "('\\tPrediction str: ', 'ihello')\n",
      "(17, 'loss:', 0.20001756, 'prediction: ', array([[1, 0, 2, 3, 3, 4]]), 'true Y: ', [[1, 0, 2, 3, 3, 4]])\n",
      "('\\tPrediction str: ', 'ihello')\n",
      "(18, 'loss:', 0.15898253, 'prediction: ', array([[1, 0, 2, 3, 3, 4]]), 'true Y: ', [[1, 0, 2, 3, 3, 4]])\n",
      "('\\tPrediction str: ', 'ihello')\n",
      "(19, 'loss:', 0.12618144, 'prediction: ', array([[1, 0, 2, 3, 3, 4]]), 'true Y: ', [[1, 0, 2, 3, 3, 4]])\n",
      "('\\tPrediction str: ', 'ihello')\n",
      "(20, 'loss:', 0.099702723, 'prediction: ', array([[1, 0, 2, 3, 3, 4]]), 'true Y: ', [[1, 0, 2, 3, 3, 4]])\n",
      "('\\tPrediction str: ', 'ihello')\n",
      "(21, 'loss:', 0.078280114, 'prediction: ', array([[1, 0, 2, 3, 3, 4]]), 'true Y: ', [[1, 0, 2, 3, 3, 4]])\n",
      "('\\tPrediction str: ', 'ihello')\n",
      "(22, 'loss:', 0.061491314, 'prediction: ', array([[1, 0, 2, 3, 3, 4]]), 'true Y: ', [[1, 0, 2, 3, 3, 4]])\n",
      "('\\tPrediction str: ', 'ihello')\n",
      "(23, 'loss:', 0.048485685, 'prediction: ', array([[1, 0, 2, 3, 3, 4]]), 'true Y: ', [[1, 0, 2, 3, 3, 4]])\n",
      "('\\tPrediction str: ', 'ihello')\n",
      "(24, 'loss:', 0.038196038, 'prediction: ', array([[1, 0, 2, 3, 3, 4]]), 'true Y: ', [[1, 0, 2, 3, 3, 4]])\n",
      "('\\tPrediction str: ', 'ihello')\n",
      "(25, 'loss:', 0.030068139, 'prediction: ', array([[1, 0, 2, 3, 3, 4]]), 'true Y: ', [[1, 0, 2, 3, 3, 4]])\n",
      "('\\tPrediction str: ', 'ihello')\n",
      "(26, 'loss:', 0.023862349, 'prediction: ', array([[1, 0, 2, 3, 3, 4]]), 'true Y: ', [[1, 0, 2, 3, 3, 4]])\n",
      "('\\tPrediction str: ', 'ihello')\n",
      "(27, 'loss:', 0.019215753, 'prediction: ', array([[1, 0, 2, 3, 3, 4]]), 'true Y: ', [[1, 0, 2, 3, 3, 4]])\n",
      "('\\tPrediction str: ', 'ihello')\n",
      "(28, 'loss:', 0.015677763, 'prediction: ', array([[1, 0, 2, 3, 3, 4]]), 'true Y: ', [[1, 0, 2, 3, 3, 4]])\n",
      "('\\tPrediction str: ', 'ihello')\n",
      "(29, 'loss:', 0.012892877, 'prediction: ', array([[1, 0, 2, 3, 3, 4]]), 'true Y: ', [[1, 0, 2, 3, 3, 4]])\n",
      "('\\tPrediction str: ', 'ihello')\n",
      "(30, 'loss:', 0.010674116, 'prediction: ', array([[1, 0, 2, 3, 3, 4]]), 'true Y: ', [[1, 0, 2, 3, 3, 4]])\n",
      "('\\tPrediction str: ', 'ihello')\n",
      "(31, 'loss:', 0.0089354627, 'prediction: ', array([[1, 0, 2, 3, 3, 4]]), 'true Y: ', [[1, 0, 2, 3, 3, 4]])\n",
      "('\\tPrediction str: ', 'ihello')\n",
      "(32, 'loss:', 0.0076014325, 'prediction: ', array([[1, 0, 2, 3, 3, 4]]), 'true Y: ', [[1, 0, 2, 3, 3, 4]])\n",
      "('\\tPrediction str: ', 'ihello')\n",
      "(33, 'loss:', 0.006578336, 'prediction: ', array([[1, 0, 2, 3, 3, 4]]), 'true Y: ', [[1, 0, 2, 3, 3, 4]])\n",
      "('\\tPrediction str: ', 'ihello')\n",
      "(34, 'loss:', 0.0057689263, 'prediction: ', array([[1, 0, 2, 3, 3, 4]]), 'true Y: ', [[1, 0, 2, 3, 3, 4]])\n",
      "('\\tPrediction str: ', 'ihello')\n",
      "(35, 'loss:', 0.0050984435, 'prediction: ', array([[1, 0, 2, 3, 3, 4]]), 'true Y: ', [[1, 0, 2, 3, 3, 4]])\n",
      "('\\tPrediction str: ', 'ihello')\n",
      "(36, 'loss:', 0.004529573, 'prediction: ', array([[1, 0, 2, 3, 3, 4]]), 'true Y: ', [[1, 0, 2, 3, 3, 4]])\n",
      "('\\tPrediction str: ', 'ihello')\n",
      "(37, 'loss:', 0.0040524784, 'prediction: ', array([[1, 0, 2, 3, 3, 4]]), 'true Y: ', [[1, 0, 2, 3, 3, 4]])\n",
      "('\\tPrediction str: ', 'ihello')\n",
      "(38, 'loss:', 0.0036623471, 'prediction: ', array([[1, 0, 2, 3, 3, 4]]), 'true Y: ', [[1, 0, 2, 3, 3, 4]])\n",
      "('\\tPrediction str: ', 'ihello')\n",
      "(39, 'loss:', 0.0033466006, 'prediction: ', array([[1, 0, 2, 3, 3, 4]]), 'true Y: ', [[1, 0, 2, 3, 3, 4]])\n",
      "('\\tPrediction str: ', 'ihello')\n",
      "(40, 'loss:', 0.0030863676, 'prediction: ', array([[1, 0, 2, 3, 3, 4]]), 'true Y: ', [[1, 0, 2, 3, 3, 4]])\n",
      "('\\tPrediction str: ', 'ihello')\n",
      "(41, 'loss:', 0.0028631955, 'prediction: ', array([[1, 0, 2, 3, 3, 4]]), 'true Y: ', [[1, 0, 2, 3, 3, 4]])\n",
      "('\\tPrediction str: ', 'ihello')\n",
      "(42, 'loss:', 0.002664414, 'prediction: ', array([[1, 0, 2, 3, 3, 4]]), 'true Y: ', [[1, 0, 2, 3, 3, 4]])\n",
      "('\\tPrediction str: ', 'ihello')\n",
      "(43, 'loss:', 0.0024848713, 'prediction: ', array([[1, 0, 2, 3, 3, 4]]), 'true Y: ', [[1, 0, 2, 3, 3, 4]])\n",
      "('\\tPrediction str: ', 'ihello')\n",
      "(44, 'loss:', 0.0023246116, 'prediction: ', array([[1, 0, 2, 3, 3, 4]]), 'true Y: ', [[1, 0, 2, 3, 3, 4]])\n",
      "('\\tPrediction str: ', 'ihello')\n",
      "(45, 'loss:', 0.002184985, 'prediction: ', array([[1, 0, 2, 3, 3, 4]]), 'true Y: ', [[1, 0, 2, 3, 3, 4]])\n",
      "('\\tPrediction str: ', 'ihello')\n",
      "(46, 'loss:', 0.0020656416, 'prediction: ', array([[1, 0, 2, 3, 3, 4]]), 'true Y: ', [[1, 0, 2, 3, 3, 4]])\n",
      "('\\tPrediction str: ', 'ihello')\n",
      "(47, 'loss:', 0.0019639153, 'prediction: ', array([[1, 0, 2, 3, 3, 4]]), 'true Y: ', [[1, 0, 2, 3, 3, 4]])\n",
      "('\\tPrediction str: ', 'ihello')\n",
      "(48, 'loss:', 0.0018755944, 'prediction: ', array([[1, 0, 2, 3, 3, 4]]), 'true Y: ', [[1, 0, 2, 3, 3, 4]])\n",
      "('\\tPrediction str: ', 'ihello')\n",
      "(49, 'loss:', 0.0017963058, 'prediction: ', array([[1, 0, 2, 3, 3, 4]]), 'true Y: ', [[1, 0, 2, 3, 3, 4]])\n",
      "('\\tPrediction str: ', 'ihello')\n"
     ]
    }
   ],
   "source": [
    "config = tf.ConfigProto()\n",
    "config.gpu_options.allow_growth=True\n",
    "with tf.Session(config=config) as sess:\n",
    "    sess.run(tf.global_variables_initializer())\n",
    "    for i in range(50):\n",
    "        l, _ = sess.run([loss, train], feed_dict={X: x_one_hot, Y: y_data})\n",
    "        result = sess.run(prediction, feed_dict={X: x_one_hot})\n",
    "        print(i, \"loss:\", l, \"prediction: \", result, \"true Y: \", y_data)\n",
    "\n",
    "        # print char using dic\n",
    "        result_str = [idx2char[c] for c in np.squeeze(result)]\n",
    "        print(\"\\tPrediction str: \", ''.join(result_str))\n"
   ]
  },
  {
   "cell_type": "code",
   "execution_count": null,
   "metadata": {
    "collapsed": true
   },
   "outputs": [],
   "source": []
  }
 ],
 "metadata": {
  "kernelspec": {
   "display_name": "Python 2",
   "language": "python",
   "name": "python2"
  },
  "language_info": {
   "codemirror_mode": {
    "name": "ipython",
    "version": 2
   },
   "file_extension": ".py",
   "mimetype": "text/x-python",
   "name": "python",
   "nbconvert_exporter": "python",
   "pygments_lexer": "ipython2",
   "version": "2.7.6"
  }
 },
 "nbformat": 4,
 "nbformat_minor": 0
}
